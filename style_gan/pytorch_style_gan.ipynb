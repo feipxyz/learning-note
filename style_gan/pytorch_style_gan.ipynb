{
  "cells": [
    {
      "cell_type": "markdown",
      "metadata": {
        "id": "mCKMatfGoF0O"
      },
      "source": [
        "# PyTorch implementation of the StyleGAN Generator\n",
        "*by Piotr Bialecki and Thomas Viehmann*\n",
        "\n",
        "We implement the generator of *T. Karras et al., A Style-Based Generator Architecture for Generative Adversarial Networks* in PyTorch. \n",
        "\n",
        "StyleGAN's photorealistic faces are an intriguing GAN output.\n",
        "While diving deep into the architecture we found that a good way to do this, is to provide a simple notebook which recreates the StyleGAN for use with the pretrained weights.\n",
        "\n",
        "Also we can always learn a few tricks when doing something as this, let's take a look.\n",
        "\n",
        "[Karras et al. provide a reference implementation and links to weights, paper, and video](https://github.com/NVlabs/stylegan)."
      ]
    },
    {
      "cell_type": "code",
      "execution_count": 19,
      "metadata": {
        "id": "ei6yLeb3oF0S"
      },
      "outputs": [],
      "source": [
        "import torch\n",
        "import torch.nn as nn\n",
        "import torch.nn.functional as F\n",
        "import torch.utils\n",
        "\n",
        "from collections import OrderedDict\n",
        "import pickle\n",
        "\n",
        "import numpy as np\n",
        "\n",
        "import IPython\n",
        "\n",
        "import pdb\n"
      ]
    },
    {
      "cell_type": "markdown",
      "metadata": {
        "id": "FqPN5xYPoF0T"
      },
      "source": [
        "### Anything new in the linear layer?\n",
        "\n",
        "Did you just yawn, when you saw linear layer? Not so fast!\n",
        "\n",
        "There is a trick that is maybe not as well known (I should be grateful if anyone pointed out a reference): While it is very common to use targeted initialization such as the method of K. He (`torch.nn.kaiming_normal_` and `torch.nn.kaiming_normal_`), if we actually don't scale the parameter but multiply the factor separately, the same factor also scales the gradients and thus, for methods like stochastic gradient descent (SGD) the updates. (For optimizers that remove scaling such as Adam, one would expect the effect to cancel with the modification in Adam's scaling.)\n",
        "\n",
        "Vaguely connected, [H Zhang et al. *Fixup Initialization: Residual Learning Without Normalization*](https://openreview.net/forum?id=H1gsz30cKX) suggest to have (but trainable) scalar multipliers.\n",
        "\n",
        "So here is the linear layer."
      ]
    },
    {
      "cell_type": "markdown",
      "source": [
        "## 新的线性层\n",
        "解析见[Equalized learning rate implementation](https://blog.csdn.net/qq_38712865/article/details/122502973)\n"
      ],
      "metadata": {
        "id": "GtUnsZ1xpz9m"
      }
    },
    {
      "cell_type": "code",
      "execution_count": 20,
      "metadata": {
        "id": "DSFCA4PuoF0U"
      },
      "outputs": [],
      "source": [
        "class MyLinear(nn.Module):\n",
        "    \"\"\"Linear layer with equalized learning rate and custom learning rate multiplier.\"\"\"\n",
        "    def __init__(self, input_size, output_size, gain=2**(0.5), use_wscale=False, lrmul=1, bias=True):\n",
        "        super().__init__()\n",
        "        he_std = gain * input_size**(-0.5) # He init\n",
        "        # Equalized learning rate and custom learning rate multiplier.\n",
        "        if use_wscale:\n",
        "            init_std = 1.0 / lrmul\n",
        "            self.w_mul = he_std * lrmul\n",
        "        else:\n",
        "            init_std = he_std / lrmul\n",
        "            self.w_mul = lrmul\n",
        "        self.weight = torch.nn.Parameter(torch.randn(output_size, input_size) * init_std)\n",
        "        if bias:\n",
        "            self.bias = torch.nn.Parameter(torch.zeros(output_size))\n",
        "            self.b_mul = lrmul\n",
        "        else:\n",
        "            self.bias = None\n",
        "\n",
        "    def forward(self, x):\n",
        "        bias = self.bias\n",
        "        if bias is not None:\n",
        "            bias = bias * self.b_mul\n",
        "        return F.linear(x, self.weight * self.w_mul, bias)"
      ]
    },
    {
      "cell_type": "markdown",
      "metadata": {
        "id": "BSifYvWnoF0V"
      },
      "source": [
        "### Convolution Layer\n",
        "\n",
        "The convolution layer uses the same trick as the linear layer.\n",
        "\n",
        "As the architecture of StyleGAN prescribes that during upscaling, blurring occurs between bias addition and (I didn't look into detail why it doesn't seem to commute), we need to provide a mechanism to have an intermediate step between them.\n",
        "For larger resolutions, the authors also propose a fused convolution / upscaling which is *not* equivalent to the two separate operations. (The \"averaging\" of the weight isn't actually an average, but an addition, that would seem to effectively multiply the weight by four, but I don't know how compatible it would be even without this effect.)\n",
        "\n",
        "If we don't have the two, we use the regular convolution with bias."
      ]
    },
    {
      "cell_type": "markdown",
      "source": [
        "## 卷积层\n",
        "\n",
        "卷积层和线性层用了同样的trick.\n",
        "\n",
        "正如 StyleGAN 的架构所规定的那样，在 upscaling 过程中，会发生模糊，我们需要提供一种机制来在它们之间设置一个中间步骤。对于更大的分辨率，作者还提出了一种不等同于两个独立操作的fused convolution/upscaling。"
      ],
      "metadata": {
        "id": "wlQBK2LCy82t"
      }
    },
    {
      "cell_type": "code",
      "execution_count": 21,
      "metadata": {
        "id": "4tCy_DkAoF0W"
      },
      "outputs": [],
      "source": [
        "class MyConv2d(nn.Module):\n",
        "    \"\"\"Conv layer with equalized learning rate and custom learning rate multiplier.\"\"\"\n",
        "    def __init__(self, input_channels, output_channels, kernel_size, gain=2**(0.5), use_wscale=False, lrmul=1, bias=True,\n",
        "                intermediate=None, upscale=False):\n",
        "        super().__init__()\n",
        "        if upscale:\n",
        "            self.upscale = Upscale2d()\n",
        "        else:\n",
        "            self.upscale = None\n",
        "        he_std = gain * (input_channels * kernel_size ** 2) ** (-0.5) # He init\n",
        "        self.kernel_size = kernel_size\n",
        "        if use_wscale:\n",
        "            init_std = 1.0 / lrmul\n",
        "            self.w_mul = he_std * lrmul\n",
        "        else:\n",
        "            init_std = he_std / lrmul\n",
        "            self.w_mul = lrmul\n",
        "        self.weight = torch.nn.Parameter(torch.randn(output_channels, input_channels, kernel_size, kernel_size) * init_std)\n",
        "        if bias:\n",
        "            self.bias = torch.nn.Parameter(torch.zeros(output_channels))\n",
        "            self.b_mul = lrmul\n",
        "        else:\n",
        "            self.bias = None\n",
        "        self.intermediate = intermediate\n",
        "\n",
        "    def forward(self, x):\n",
        "        bias = self.bias\n",
        "        if bias is not None:\n",
        "            bias = bias * self.b_mul\n",
        "        \n",
        "        have_convolution = False\n",
        "        if self.upscale is not None and min(x.shape[2:]) * 2 >= 128:\n",
        "            # this is the fused upscale + conv from StyleGAN, sadly this seems incompatible with the non-fused way\n",
        "            # this really needs to be cleaned up and go into the conv...\n",
        "            w = self.weight * self.w_mul\n",
        "            w = w.permute(1, 0, 2, 3)\n",
        "            # probably applying a conv on w would be more efficient. also this quadruples the weight (average)?!\n",
        "            w = F.pad(w, (1,1,1,1))\n",
        "            w = w[:, :, 1:, 1:]+ w[:, :, :-1, 1:] + w[:, :, 1:, :-1] + w[:, :, :-1, :-1]\n",
        "            x = F.conv_transpose2d(x, w, stride=2, padding=(w.size(-1)-1)//2)\n",
        "            have_convolution = True\n",
        "        elif self.upscale is not None:\n",
        "            x = self.upscale(x)\n",
        "    \n",
        "        if not have_convolution and self.intermediate is None:\n",
        "            return F.conv2d(x, self.weight * self.w_mul, bias, padding=self.kernel_size//2)\n",
        "        elif not have_convolution:\n",
        "            x = F.conv2d(x, self.weight * self.w_mul, None, padding=self.kernel_size//2)\n",
        "        \n",
        "        if self.intermediate is not None:\n",
        "            x = self.intermediate(x)\n",
        "        if bias is not None:\n",
        "            x = x + bias.view(1, -1, 1, 1)\n",
        "        return x"
      ]
    },
    {
      "cell_type": "markdown",
      "source": [
        ""
      ],
      "metadata": {
        "id": "9NcyfHCly7dD"
      }
    },
    {
      "cell_type": "markdown",
      "metadata": {
        "id": "fn3AbyUzoF0X"
      },
      "source": [
        "### Noise Layer\n",
        "\n",
        "The noise layer adds gaussian noise of learnable standard deviation (and zero mean). The noise itself is per-pixel (and image in the minibatch), but constant over the channels. Note that the learnable standard deviation is per channel.\n",
        "As you can see when you feed the same latent into the model several times, the effects are not all that large, but in the detail.\n",
        "\n",
        "There is a little trick in the code: if you set .noise for the noise layer, you can fix the noise. This is one of the tricks to use when checking against a reference implementation - this way you can get a 1-1 correspondence of outputs."
      ]
    },
    {
      "cell_type": "code",
      "execution_count": 22,
      "metadata": {
        "id": "OLAIvholoF0X"
      },
      "outputs": [],
      "source": [
        "class NoiseLayer(nn.Module):\n",
        "    \"\"\"adds noise. noise is per pixel (constant over channels) with per-channel weight\"\"\"\n",
        "    def __init__(self, channels):\n",
        "        super().__init__()\n",
        "        self.weight = nn.Parameter(torch.zeros(channels))\n",
        "        self.noise = None\n",
        "    \n",
        "    def forward(self, x, noise=None):\n",
        "        if noise is None and self.noise is None:\n",
        "            noise = torch.randn(x.size(0), 1, x.size(2), x.size(3), device=x.device, dtype=x.dtype)\n",
        "        elif noise is None:\n",
        "            # here is a little trick: if you get all the noiselayers and set each\n",
        "            # modules .noise attribute, you can have pre-defined noise.\n",
        "            # Very useful for analysis\n",
        "            noise = self.noise\n",
        "        x = x + self.weight.view(1, -1, 1, 1) * noise\n",
        "        return x  "
      ]
    },
    {
      "cell_type": "markdown",
      "metadata": {
        "id": "a50Igy0ioF0Y"
      },
      "source": [
        "### Style Modification layer\n",
        "\n",
        "In the generator, a style modification layer is used after each (non-affine) instance norm layer. Recall that the instance norm normalizes the mean and standard deviation across pixels separately for each channel (and sample).\n",
        "So here we put back a mean and variance, but not just arbitrary learnable parameters, but as the output of a linear layer which takes the latent style vector as inputs. So in a way, this is the affine part of the instance norm, but with calculated parameters.\n",
        "The article call the affine Instance Norm *Adaptive Instance Norm (AdaIN)*."
      ]
    },
    {
      "cell_type": "code",
      "execution_count": 23,
      "metadata": {
        "id": "EX5SLAsUoF0Y"
      },
      "outputs": [],
      "source": [
        "class StyleMod(nn.Module):\n",
        "    def __init__(self, latent_size, channels, use_wscale):\n",
        "        super(StyleMod, self).__init__()\n",
        "        self.lin = MyLinear(latent_size,\n",
        "                            channels * 2,\n",
        "                            gain=1.0, use_wscale=use_wscale)\n",
        "        \n",
        "    def forward(self, x, latent):\n",
        "        style = self.lin(latent) # style => [batch_size, n_channels*2]\n",
        "        shape = [-1, 2, x.size(1)] + (x.dim() - 2) * [1]\n",
        "        style = style.view(shape)  # [batch_size, 2, n_channels, ...]\n",
        "        x = x * (style[:, 0] + 1.) + style[:, 1]\n",
        "        return x"
      ]
    },
    {
      "cell_type": "markdown",
      "metadata": {
        "id": "KiHZyaDloF0Z"
      },
      "source": [
        "### Pixelnorm\n",
        "\n",
        "Pixelnorm normalizes per pixel across all channels.\n",
        "\n",
        "Note that the default configuration only use the pixel norm in the g_mapping. There it effectively forces the empirical standard deviation of the latent vector to be one."
      ]
    },
    {
      "cell_type": "code",
      "execution_count": 24,
      "metadata": {
        "id": "t6nah5rWoF0Z"
      },
      "outputs": [],
      "source": [
        "class PixelNormLayer(nn.Module):\n",
        "    def __init__(self, epsilon=1e-8):\n",
        "        super().__init__()\n",
        "        self.epsilon = epsilon\n",
        "    def forward(self, x):\n",
        "        return x * torch.rsqrt(torch.mean(x**2, dim=1, keepdim=True) + self.epsilon)"
      ]
    },
    {
      "cell_type": "markdown",
      "metadata": {
        "id": "_6g9Ad8voF0a"
      },
      "source": [
        "# Upscale and blur layers\n",
        "\n",
        "The StyleGAN has two types of upscaling. For the plain one, where you just set a block of 2x2 pixels to the value of the pixel to arrive an image that is scaled by 2. No fancy stuff like bilinear or bicubic interpolation. The alternative way - \"fused\" with convolution - uses a stride 2 transposed convolution instead. Note from above that they seem to not be quite equivalent (at least not with the same parametrisation).\n",
        "Both of these will have blocky results. To mitigate, the generator blurs the layer, by convolving with the simplest possible smoothing kernel.\n"
      ]
    },
    {
      "cell_type": "code",
      "execution_count": 25,
      "metadata": {
        "id": "ZxKxOUz4oF0a"
      },
      "outputs": [],
      "source": [
        "class BlurLayer(nn.Module):\n",
        "    def __init__(self, kernel=[1, 2, 1], normalize=True, flip=False, stride=1):\n",
        "        super(BlurLayer, self).__init__()\n",
        "        kernel=[1, 2, 1]\n",
        "        kernel = torch.tensor(kernel, dtype=torch.float32)\n",
        "        kernel = kernel[:, None] * kernel[None, :]\n",
        "        kernel = kernel[None, None]\n",
        "        if normalize:\n",
        "            kernel = kernel / kernel.sum()\n",
        "        if flip:\n",
        "            kernel = kernel[:, :, ::-1, ::-1]\n",
        "        self.register_buffer('kernel', kernel)\n",
        "        self.stride = stride\n",
        "    \n",
        "    def forward(self, x):\n",
        "        # expand kernel channels\n",
        "        kernel = self.kernel.expand(x.size(1), -1, -1, -1)\n",
        "        x = F.conv2d(\n",
        "            x,\n",
        "            kernel,\n",
        "            stride=self.stride,\n",
        "            padding=int((self.kernel.size(2)-1)/2),\n",
        "            groups=x.size(1)\n",
        "        )\n",
        "        return x\n",
        "\n",
        "def upscale2d(x, factor=2, gain=1):\n",
        "    # x torch.Size([10, 512, 4, 4])\n",
        "    assert x.dim() == 4\n",
        "    if gain != 1:\n",
        "        x = x * gain\n",
        "    if factor != 1:\n",
        "        shape = x.shape\n",
        "        x = x.view(shape[0], shape[1], shape[2], 1, shape[3], 1).expand(-1, -1, -1, factor, -1, factor)\n",
        "        # x torch.Size([10, 512, 8, 8])\n",
        "        x = x.contiguous().view(shape[0], shape[1], factor * shape[2], factor * shape[3])\n",
        "    return x\n",
        "\n",
        "class Upscale2d(nn.Module):\n",
        "    def __init__(self, factor=2, gain=1):\n",
        "        super().__init__()\n",
        "        assert isinstance(factor, int) and factor >= 1\n",
        "        self.gain = gain\n",
        "        self.factor = factor\n",
        "    def forward(self, x):\n",
        "        return upscale2d(x, factor=self.factor, gain=self.gain)"
      ]
    },
    {
      "cell_type": "markdown",
      "metadata": {
        "id": "W08QNZNuoF0a"
      },
      "source": [
        "### Generator Mapping Module\n",
        "\n",
        "With all these building blocks done, we can actually define the StyleGAN generator.\n",
        "The fist component is the mapping. It's a reasonably deep (8 layers) but otherwise very plain vanilla fully connected network aka Multi-Layer-Perceptron. The StyleGAN reference model uses Leaky ReLUs, so we do, too.\n",
        "Note that while we get an 18-channel (times 512 features) per image style matrix, all 18 channels will be the same. \n",
        "\n",
        "We also provide a truncation module pulling the upper layer's latent inputs towards the mean, but we don't activate it as the mean is not provided in the pre-trained network. We could run the mapping for a while and derive the truncation weights."
      ]
    },
    {
      "cell_type": "code",
      "execution_count": 26,
      "metadata": {
        "id": "l2RKtL9IoF0b"
      },
      "outputs": [],
      "source": [
        "class G_mapping(nn.Sequential):\n",
        "    def __init__(self, nonlinearity='lrelu', use_wscale=True):\n",
        "        act, gain = {'relu': (torch.relu, np.sqrt(2)),\n",
        "                     'lrelu': (nn.LeakyReLU(negative_slope=0.2), np.sqrt(2))}[nonlinearity]\n",
        "        layers = [\n",
        "            ('pixel_norm', PixelNormLayer()),\n",
        "            ('dense0', MyLinear(512, 512, gain=gain, lrmul=0.01, use_wscale=use_wscale)),\n",
        "            ('dense0_act', act),\n",
        "            ('dense1', MyLinear(512, 512, gain=gain, lrmul=0.01, use_wscale=use_wscale)),\n",
        "            ('dense1_act', act),\n",
        "            ('dense2', MyLinear(512, 512, gain=gain, lrmul=0.01, use_wscale=use_wscale)),\n",
        "            ('dense2_act', act),\n",
        "            ('dense3', MyLinear(512, 512, gain=gain, lrmul=0.01, use_wscale=use_wscale)),\n",
        "            ('dense3_act', act),\n",
        "            ('dense4', MyLinear(512, 512, gain=gain, lrmul=0.01, use_wscale=use_wscale)),\n",
        "            ('dense4_act', act),\n",
        "            ('dense5', MyLinear(512, 512, gain=gain, lrmul=0.01, use_wscale=use_wscale)),\n",
        "            ('dense5_act', act),\n",
        "            ('dense6', MyLinear(512, 512, gain=gain, lrmul=0.01, use_wscale=use_wscale)),\n",
        "            ('dense6_act', act),\n",
        "            ('dense7', MyLinear(512, 512, gain=gain, lrmul=0.01, use_wscale=use_wscale)),\n",
        "            ('dense7_act', act)\n",
        "        ]\n",
        "        super().__init__(OrderedDict(layers))\n",
        "        \n",
        "    def forward(self, x):\n",
        "        x = super().forward(x)\n",
        "        # Broadcast\n",
        "        x = x.unsqueeze(1).expand(-1, 18, -1)\n",
        "        return x\n",
        "\n",
        "class Truncation(nn.Module):\n",
        "    def __init__(self, avg_latent, max_layer=8, threshold=0.7):\n",
        "        super().__init__()\n",
        "        self.max_layer = max_layer\n",
        "        self.threshold = threshold\n",
        "        self.register_buffer('avg_latent', avg_latent)\n",
        "    def forward(self, x):\n",
        "        assert x.dim() == 3\n",
        "        interp = torch.lerp(self.avg_latent, x, self.threshold)\n",
        "        do_trunc = (torch.arange(x.size(1)) < self.max_layer).view(1, -1, 1)\n",
        "        return torch.where(do_trunc, interp, x)"
      ]
    },
    {
      "cell_type": "markdown",
      "metadata": {
        "id": "gWXxVvVGoF0b"
      },
      "source": [
        "### Generator Synthesis Blocks\n",
        "\n",
        "Each Block consists of two halfs. Each of these halfs does the following:\n",
        "- Upscaling (if it's the first half) by a factor of two and blurring - fused with the convolution for the later layers\n",
        "- Convolution (if it's the first half, halving the channels for the later layers)\n",
        "- Noise\n",
        "- Activation (LeakyReLU in the reference model)\n",
        "- Optionally Pixel Norm (**not used** in the reference model)\n",
        "- Instance Norm (optional, but used in the reference model)\n",
        "- The style modulation (i.e. setting the mean/standard deviation of the outputs after instance norm, see above)\n",
        "\n",
        "Two of these sequences form a block that typically has `out_channels = in_channels//2` (in the earlier blocks, there are 512 input and 512 output channels) and `output_resolution = input_resolution * 2`.\n",
        "We combine all but the first two into a Module called the Layer Epilogue (the term taken from the original code).\n",
        "Note that the original implementation moves the bias of the convolution after the noise, but those two commute, so it doesn't matter.\n",
        "\n",
        "The first block (4x4 \"pixels\") doesn't have an input. The result of the first convolution is just replaced by a (trained) constant. We call it the `InputBlock`, the others `GSynthesisBlock`.\n",
        "(It might be nicer to do this the other way round, i.e. have the `LayerEpilogue` be the Layer and call the conv from that.)"
      ]
    },
    {
      "cell_type": "code",
      "execution_count": 27,
      "metadata": {
        "id": "5vNHd3EMoF0c"
      },
      "outputs": [],
      "source": [
        "class LayerEpilogue(nn.Module):\n",
        "    \"\"\"Things to do at the end of each layer.\"\"\"\n",
        "    def __init__(self, channels, dlatent_size, use_wscale, use_noise, use_pixel_norm, use_instance_norm, use_styles, activation_layer):\n",
        "        super().__init__()\n",
        "        layers = []\n",
        "        if use_noise:\n",
        "            layers.append(('noise', NoiseLayer(channels)))\n",
        "        layers.append(('activation', activation_layer))\n",
        "        if use_pixel_norm:\n",
        "            layers.append(('pixel_norm', PixelNorm()))\n",
        "        if use_instance_norm:\n",
        "            layers.append(('instance_norm', nn.InstanceNorm2d(channels)))\n",
        "        self.top_epi = nn.Sequential(OrderedDict(layers))\n",
        "        if use_styles:\n",
        "            self.style_mod = StyleMod(dlatent_size, channels, use_wscale=use_wscale)\n",
        "        else:\n",
        "            self.style_mod = None\n",
        "    def forward(self, x, dlatents_in_slice=None):\n",
        "        x = self.top_epi(x)\n",
        "        if self.style_mod is not None:\n",
        "            x = self.style_mod(x, dlatents_in_slice)\n",
        "        else:\n",
        "            assert dlatents_in_slice is None\n",
        "        return x\n",
        "\n",
        "\n",
        "class InputBlock(nn.Module):\n",
        "    def __init__(self, nf, dlatent_size, const_input_layer, gain, use_wscale, use_noise, use_pixel_norm, use_instance_norm, use_styles, activation_layer):\n",
        "        super().__init__()\n",
        "        self.const_input_layer = const_input_layer\n",
        "        self.nf = nf\n",
        "        if self.const_input_layer:\n",
        "            # called 'const' in tf\n",
        "            self.const = nn.Parameter(torch.ones(1, nf, 4, 4))\n",
        "            self.bias = nn.Parameter(torch.ones(nf))\n",
        "        else:\n",
        "            self.dense = MyLinear(dlatent_size, nf*16, gain=gain/4, use_wscale=use_wscale) # tweak gain to match the official implementation of Progressing GAN\n",
        "        self.epi1 = LayerEpilogue(nf, dlatent_size, use_wscale, use_noise, use_pixel_norm, use_instance_norm, use_styles, activation_layer)\n",
        "        self.conv = MyConv2d(nf, nf, 3, gain=gain, use_wscale=use_wscale)\n",
        "        self.epi2 = LayerEpilogue(nf, dlatent_size, use_wscale, use_noise, use_pixel_norm, use_instance_norm, use_styles, activation_layer)\n",
        "        \n",
        "    def forward(self, dlatents_in_range):\n",
        "        batch_size = dlatents_in_range.size(0)\n",
        "        if self.const_input_layer:\n",
        "            x = self.const.expand(batch_size, -1, -1, -1)\n",
        "            x = x + self.bias.view(1, -1, 1, 1)\n",
        "        else:\n",
        "            x = self.dense(dlatents_in_range[:, 0]).view(batch_size, self.nf, 4, 4)\n",
        "        x = self.epi1(x, dlatents_in_range[:, 0])\n",
        "        x = self.conv(x)\n",
        "        x = self.epi2(x, dlatents_in_range[:, 1])\n",
        "        return x\n",
        "\n",
        "\n",
        "class GSynthesisBlock(nn.Module):\n",
        "    def __init__(self, in_channels, out_channels, blur_filter, dlatent_size, gain, use_wscale, use_noise, use_pixel_norm, use_instance_norm, use_styles, activation_layer):\n",
        "        # 2**res x 2**res # res = 3..resolution_log2\n",
        "        super().__init__()\n",
        "        if blur_filter:\n",
        "            blur = BlurLayer(blur_filter)\n",
        "        else:\n",
        "            blur = None\n",
        "        self.conv0_up = MyConv2d(in_channels, out_channels, kernel_size=3, gain=gain, use_wscale=use_wscale,\n",
        "                                 intermediate=blur, upscale=True)\n",
        "        self.epi1 = LayerEpilogue(out_channels, dlatent_size, use_wscale, use_noise, use_pixel_norm, use_instance_norm, use_styles, activation_layer)\n",
        "        self.conv1 = MyConv2d(out_channels, out_channels, kernel_size=3, gain=gain, use_wscale=use_wscale)\n",
        "        self.epi2 = LayerEpilogue(out_channels, dlatent_size, use_wscale, use_noise, use_pixel_norm, use_instance_norm, use_styles, activation_layer)\n",
        "            \n",
        "    def forward(self, x, dlatents_in_range):\n",
        "        x = self.conv0_up(x)\n",
        "        x = self.epi1(x, dlatents_in_range[:, 0])\n",
        "        x = self.conv1(x)\n",
        "        x = self.epi2(x, dlatents_in_range[:, 1])\n",
        "        return x"
      ]
    },
    {
      "cell_type": "markdown",
      "metadata": {
        "id": "XNG4p-R6oF0c"
      },
      "source": [
        "# Generator - Synthesis part\n",
        "\n",
        "Finally, the synthesis part just stacks 9 blocks (input + 8 resolution doubling) and a pixelwise (1x1) convolution from 16 channels to RGB (3 channels).\n",
        "Note that lower resolution RGB convolutions don't seem to serve any purpose in the final model. (And we don't think that they produce images as they once did during the training - but the parameter file contains parameters, so we have the modules here. The alternative would be to filter out the weights).\n",
        "The reference implementation's somewhat convoluted setup in the \"recursive\" mode is mainly to provide a single static graph for all stages of the progressive training. It would be interesting to reimplement the full training in PyTorch, making use of the dynamic graphs.\n"
      ]
    },
    {
      "cell_type": "code",
      "execution_count": 28,
      "metadata": {
        "id": "fzYzIgk_oF0d"
      },
      "outputs": [],
      "source": [
        "class G_synthesis(nn.Module):\n",
        "    def __init__(self,\n",
        "        dlatent_size        = 512,          # Disentangled latent (W) dimensionality.\n",
        "        num_channels        = 3,            # Number of output color channels.\n",
        "        resolution          = 1024,         # Output resolution.\n",
        "        fmap_base           = 8192,         # Overall multiplier for the number of feature maps.\n",
        "        fmap_decay          = 1.0,          # log2 feature map reduction when doubling the resolution.\n",
        "        fmap_max            = 512,          # Maximum number of feature maps in any layer.\n",
        "        use_styles          = True,         # Enable style inputs?\n",
        "        const_input_layer   = True,         # First layer is a learned constant?\n",
        "        use_noise           = True,         # Enable noise inputs?\n",
        "        randomize_noise     = True,         # True = randomize noise inputs every time (non-deterministic), False = read noise inputs from variables.\n",
        "        nonlinearity        = 'lrelu',      # Activation function: 'relu', 'lrelu'\n",
        "        use_wscale          = True,         # Enable equalized learning rate?\n",
        "        use_pixel_norm      = False,        # Enable pixelwise feature vector normalization?\n",
        "        use_instance_norm   = True,         # Enable instance normalization?\n",
        "        dtype               = torch.float32,  # Data type to use for activations and outputs.\n",
        "        blur_filter         = [1,2,1],      # Low-pass filter to apply when resampling activations. None = no filtering.\n",
        "        ):\n",
        "        \n",
        "        super().__init__()\n",
        "        def nf(stage):\n",
        "            return min(int(fmap_base / (2.0 ** (stage * fmap_decay))), fmap_max)\n",
        "        self.dlatent_size = dlatent_size\n",
        "        resolution_log2 = int(np.log2(resolution))\n",
        "        assert resolution == 2**resolution_log2 and resolution >= 4\n",
        "\n",
        "        act, gain = {'relu': (torch.relu, np.sqrt(2)),\n",
        "                     'lrelu': (nn.LeakyReLU(negative_slope=0.2), np.sqrt(2))}[nonlinearity]\n",
        "        num_layers = resolution_log2 * 2 - 2\n",
        "        num_styles = num_layers if use_styles else 1\n",
        "        torgbs = []\n",
        "        blocks = []\n",
        "        for res in range(2, resolution_log2 + 1):\n",
        "            channels = nf(res-1)\n",
        "            name = '{s}x{s}'.format(s=2**res)\n",
        "            if res == 2:\n",
        "                blocks.append((name,\n",
        "                               InputBlock(channels, dlatent_size, const_input_layer, gain, use_wscale,\n",
        "                                      use_noise, use_pixel_norm, use_instance_norm, use_styles, act)))\n",
        "                \n",
        "            else:\n",
        "                blocks.append((name,\n",
        "                               GSynthesisBlock(last_channels, channels, blur_filter, dlatent_size, gain, use_wscale, use_noise, use_pixel_norm, use_instance_norm, use_styles, act)))\n",
        "            last_channels = channels\n",
        "        self.torgb = MyConv2d(channels, num_channels, 1, gain=1, use_wscale=use_wscale)\n",
        "        self.blocks = nn.ModuleDict(OrderedDict(blocks))\n",
        "        \n",
        "    def forward(self, dlatents_in):\n",
        "        # Input: Disentangled latents (W) [minibatch, num_layers, dlatent_size].\n",
        "        # lod_in = tf.cast(tf.get_variable('lod', initializer=np.float32(0), trainable=False), dtype)\n",
        "        batch_size = dlatents_in.size(0)       \n",
        "        for i, m in enumerate(self.blocks.values()):\n",
        "            if i == 0:\n",
        "                x = m(dlatents_in[:, 2*i:2*i+2])\n",
        "            else:\n",
        "                x = m(x, dlatents_in[:, 2*i:2*i+2])\n",
        "        rgb = self.torgb(x)\n",
        "        return rgb"
      ]
    },
    {
      "cell_type": "markdown",
      "metadata": {
        "id": "IEzWemeYoF0d"
      },
      "source": [
        "## 定义模型"
      ]
    },
    {
      "cell_type": "code",
      "execution_count": 29,
      "metadata": {
        "id": "NgDOtMbsoF0d"
      },
      "outputs": [],
      "source": [
        "g_all = nn.Sequential(OrderedDict([\n",
        "    ('g_mapping', G_mapping()),\n",
        "    #('truncation', Truncation(avg_latent)),\n",
        "    ('g_synthesis', G_synthesis())    \n",
        "]))"
      ]
    },
    {
      "cell_type": "code",
      "source": [
        "print(g_all)"
      ],
      "metadata": {
        "id": "GPH7yo3G3rDS",
        "outputId": "cb2cb44d-e463-4a8e-c17e-9e4c2734ff04",
        "colab": {
          "base_uri": "https://localhost:8080/"
        }
      },
      "execution_count": 30,
      "outputs": [
        {
          "output_type": "stream",
          "name": "stdout",
          "text": [
            "Sequential(\n",
            "  (g_mapping): G_mapping(\n",
            "    (pixel_norm): PixelNormLayer()\n",
            "    (dense0): MyLinear()\n",
            "    (dense0_act): LeakyReLU(negative_slope=0.2)\n",
            "    (dense1): MyLinear()\n",
            "    (dense1_act): LeakyReLU(negative_slope=0.2)\n",
            "    (dense2): MyLinear()\n",
            "    (dense2_act): LeakyReLU(negative_slope=0.2)\n",
            "    (dense3): MyLinear()\n",
            "    (dense3_act): LeakyReLU(negative_slope=0.2)\n",
            "    (dense4): MyLinear()\n",
            "    (dense4_act): LeakyReLU(negative_slope=0.2)\n",
            "    (dense5): MyLinear()\n",
            "    (dense5_act): LeakyReLU(negative_slope=0.2)\n",
            "    (dense6): MyLinear()\n",
            "    (dense6_act): LeakyReLU(negative_slope=0.2)\n",
            "    (dense7): MyLinear()\n",
            "    (dense7_act): LeakyReLU(negative_slope=0.2)\n",
            "  )\n",
            "  (g_synthesis): G_synthesis(\n",
            "    (torgb): MyConv2d()\n",
            "    (blocks): ModuleDict(\n",
            "      (4x4): InputBlock(\n",
            "        (epi1): LayerEpilogue(\n",
            "          (top_epi): Sequential(\n",
            "            (noise): NoiseLayer()\n",
            "            (activation): LeakyReLU(negative_slope=0.2)\n",
            "            (instance_norm): InstanceNorm2d(512, eps=1e-05, momentum=0.1, affine=False, track_running_stats=False)\n",
            "          )\n",
            "          (style_mod): StyleMod(\n",
            "            (lin): MyLinear()\n",
            "          )\n",
            "        )\n",
            "        (conv): MyConv2d()\n",
            "        (epi2): LayerEpilogue(\n",
            "          (top_epi): Sequential(\n",
            "            (noise): NoiseLayer()\n",
            "            (activation): LeakyReLU(negative_slope=0.2)\n",
            "            (instance_norm): InstanceNorm2d(512, eps=1e-05, momentum=0.1, affine=False, track_running_stats=False)\n",
            "          )\n",
            "          (style_mod): StyleMod(\n",
            "            (lin): MyLinear()\n",
            "          )\n",
            "        )\n",
            "      )\n",
            "      (8x8): GSynthesisBlock(\n",
            "        (conv0_up): MyConv2d(\n",
            "          (upscale): Upscale2d()\n",
            "          (intermediate): BlurLayer()\n",
            "        )\n",
            "        (epi1): LayerEpilogue(\n",
            "          (top_epi): Sequential(\n",
            "            (noise): NoiseLayer()\n",
            "            (activation): LeakyReLU(negative_slope=0.2)\n",
            "            (instance_norm): InstanceNorm2d(512, eps=1e-05, momentum=0.1, affine=False, track_running_stats=False)\n",
            "          )\n",
            "          (style_mod): StyleMod(\n",
            "            (lin): MyLinear()\n",
            "          )\n",
            "        )\n",
            "        (conv1): MyConv2d()\n",
            "        (epi2): LayerEpilogue(\n",
            "          (top_epi): Sequential(\n",
            "            (noise): NoiseLayer()\n",
            "            (activation): LeakyReLU(negative_slope=0.2)\n",
            "            (instance_norm): InstanceNorm2d(512, eps=1e-05, momentum=0.1, affine=False, track_running_stats=False)\n",
            "          )\n",
            "          (style_mod): StyleMod(\n",
            "            (lin): MyLinear()\n",
            "          )\n",
            "        )\n",
            "      )\n",
            "      (16x16): GSynthesisBlock(\n",
            "        (conv0_up): MyConv2d(\n",
            "          (upscale): Upscale2d()\n",
            "          (intermediate): BlurLayer()\n",
            "        )\n",
            "        (epi1): LayerEpilogue(\n",
            "          (top_epi): Sequential(\n",
            "            (noise): NoiseLayer()\n",
            "            (activation): LeakyReLU(negative_slope=0.2)\n",
            "            (instance_norm): InstanceNorm2d(512, eps=1e-05, momentum=0.1, affine=False, track_running_stats=False)\n",
            "          )\n",
            "          (style_mod): StyleMod(\n",
            "            (lin): MyLinear()\n",
            "          )\n",
            "        )\n",
            "        (conv1): MyConv2d()\n",
            "        (epi2): LayerEpilogue(\n",
            "          (top_epi): Sequential(\n",
            "            (noise): NoiseLayer()\n",
            "            (activation): LeakyReLU(negative_slope=0.2)\n",
            "            (instance_norm): InstanceNorm2d(512, eps=1e-05, momentum=0.1, affine=False, track_running_stats=False)\n",
            "          )\n",
            "          (style_mod): StyleMod(\n",
            "            (lin): MyLinear()\n",
            "          )\n",
            "        )\n",
            "      )\n",
            "      (32x32): GSynthesisBlock(\n",
            "        (conv0_up): MyConv2d(\n",
            "          (upscale): Upscale2d()\n",
            "          (intermediate): BlurLayer()\n",
            "        )\n",
            "        (epi1): LayerEpilogue(\n",
            "          (top_epi): Sequential(\n",
            "            (noise): NoiseLayer()\n",
            "            (activation): LeakyReLU(negative_slope=0.2)\n",
            "            (instance_norm): InstanceNorm2d(512, eps=1e-05, momentum=0.1, affine=False, track_running_stats=False)\n",
            "          )\n",
            "          (style_mod): StyleMod(\n",
            "            (lin): MyLinear()\n",
            "          )\n",
            "        )\n",
            "        (conv1): MyConv2d()\n",
            "        (epi2): LayerEpilogue(\n",
            "          (top_epi): Sequential(\n",
            "            (noise): NoiseLayer()\n",
            "            (activation): LeakyReLU(negative_slope=0.2)\n",
            "            (instance_norm): InstanceNorm2d(512, eps=1e-05, momentum=0.1, affine=False, track_running_stats=False)\n",
            "          )\n",
            "          (style_mod): StyleMod(\n",
            "            (lin): MyLinear()\n",
            "          )\n",
            "        )\n",
            "      )\n",
            "      (64x64): GSynthesisBlock(\n",
            "        (conv0_up): MyConv2d(\n",
            "          (upscale): Upscale2d()\n",
            "          (intermediate): BlurLayer()\n",
            "        )\n",
            "        (epi1): LayerEpilogue(\n",
            "          (top_epi): Sequential(\n",
            "            (noise): NoiseLayer()\n",
            "            (activation): LeakyReLU(negative_slope=0.2)\n",
            "            (instance_norm): InstanceNorm2d(256, eps=1e-05, momentum=0.1, affine=False, track_running_stats=False)\n",
            "          )\n",
            "          (style_mod): StyleMod(\n",
            "            (lin): MyLinear()\n",
            "          )\n",
            "        )\n",
            "        (conv1): MyConv2d()\n",
            "        (epi2): LayerEpilogue(\n",
            "          (top_epi): Sequential(\n",
            "            (noise): NoiseLayer()\n",
            "            (activation): LeakyReLU(negative_slope=0.2)\n",
            "            (instance_norm): InstanceNorm2d(256, eps=1e-05, momentum=0.1, affine=False, track_running_stats=False)\n",
            "          )\n",
            "          (style_mod): StyleMod(\n",
            "            (lin): MyLinear()\n",
            "          )\n",
            "        )\n",
            "      )\n",
            "      (128x128): GSynthesisBlock(\n",
            "        (conv0_up): MyConv2d(\n",
            "          (upscale): Upscale2d()\n",
            "          (intermediate): BlurLayer()\n",
            "        )\n",
            "        (epi1): LayerEpilogue(\n",
            "          (top_epi): Sequential(\n",
            "            (noise): NoiseLayer()\n",
            "            (activation): LeakyReLU(negative_slope=0.2)\n",
            "            (instance_norm): InstanceNorm2d(128, eps=1e-05, momentum=0.1, affine=False, track_running_stats=False)\n",
            "          )\n",
            "          (style_mod): StyleMod(\n",
            "            (lin): MyLinear()\n",
            "          )\n",
            "        )\n",
            "        (conv1): MyConv2d()\n",
            "        (epi2): LayerEpilogue(\n",
            "          (top_epi): Sequential(\n",
            "            (noise): NoiseLayer()\n",
            "            (activation): LeakyReLU(negative_slope=0.2)\n",
            "            (instance_norm): InstanceNorm2d(128, eps=1e-05, momentum=0.1, affine=False, track_running_stats=False)\n",
            "          )\n",
            "          (style_mod): StyleMod(\n",
            "            (lin): MyLinear()\n",
            "          )\n",
            "        )\n",
            "      )\n",
            "      (256x256): GSynthesisBlock(\n",
            "        (conv0_up): MyConv2d(\n",
            "          (upscale): Upscale2d()\n",
            "          (intermediate): BlurLayer()\n",
            "        )\n",
            "        (epi1): LayerEpilogue(\n",
            "          (top_epi): Sequential(\n",
            "            (noise): NoiseLayer()\n",
            "            (activation): LeakyReLU(negative_slope=0.2)\n",
            "            (instance_norm): InstanceNorm2d(64, eps=1e-05, momentum=0.1, affine=False, track_running_stats=False)\n",
            "          )\n",
            "          (style_mod): StyleMod(\n",
            "            (lin): MyLinear()\n",
            "          )\n",
            "        )\n",
            "        (conv1): MyConv2d()\n",
            "        (epi2): LayerEpilogue(\n",
            "          (top_epi): Sequential(\n",
            "            (noise): NoiseLayer()\n",
            "            (activation): LeakyReLU(negative_slope=0.2)\n",
            "            (instance_norm): InstanceNorm2d(64, eps=1e-05, momentum=0.1, affine=False, track_running_stats=False)\n",
            "          )\n",
            "          (style_mod): StyleMod(\n",
            "            (lin): MyLinear()\n",
            "          )\n",
            "        )\n",
            "      )\n",
            "      (512x512): GSynthesisBlock(\n",
            "        (conv0_up): MyConv2d(\n",
            "          (upscale): Upscale2d()\n",
            "          (intermediate): BlurLayer()\n",
            "        )\n",
            "        (epi1): LayerEpilogue(\n",
            "          (top_epi): Sequential(\n",
            "            (noise): NoiseLayer()\n",
            "            (activation): LeakyReLU(negative_slope=0.2)\n",
            "            (instance_norm): InstanceNorm2d(32, eps=1e-05, momentum=0.1, affine=False, track_running_stats=False)\n",
            "          )\n",
            "          (style_mod): StyleMod(\n",
            "            (lin): MyLinear()\n",
            "          )\n",
            "        )\n",
            "        (conv1): MyConv2d()\n",
            "        (epi2): LayerEpilogue(\n",
            "          (top_epi): Sequential(\n",
            "            (noise): NoiseLayer()\n",
            "            (activation): LeakyReLU(negative_slope=0.2)\n",
            "            (instance_norm): InstanceNorm2d(32, eps=1e-05, momentum=0.1, affine=False, track_running_stats=False)\n",
            "          )\n",
            "          (style_mod): StyleMod(\n",
            "            (lin): MyLinear()\n",
            "          )\n",
            "        )\n",
            "      )\n",
            "      (1024x1024): GSynthesisBlock(\n",
            "        (conv0_up): MyConv2d(\n",
            "          (upscale): Upscale2d()\n",
            "          (intermediate): BlurLayer()\n",
            "        )\n",
            "        (epi1): LayerEpilogue(\n",
            "          (top_epi): Sequential(\n",
            "            (noise): NoiseLayer()\n",
            "            (activation): LeakyReLU(negative_slope=0.2)\n",
            "            (instance_norm): InstanceNorm2d(16, eps=1e-05, momentum=0.1, affine=False, track_running_stats=False)\n",
            "          )\n",
            "          (style_mod): StyleMod(\n",
            "            (lin): MyLinear()\n",
            "          )\n",
            "        )\n",
            "        (conv1): MyConv2d()\n",
            "        (epi2): LayerEpilogue(\n",
            "          (top_epi): Sequential(\n",
            "            (noise): NoiseLayer()\n",
            "            (activation): LeakyReLU(negative_slope=0.2)\n",
            "            (instance_norm): InstanceNorm2d(16, eps=1e-05, momentum=0.1, affine=False, track_running_stats=False)\n",
            "          )\n",
            "          (style_mod): StyleMod(\n",
            "            (lin): MyLinear()\n",
            "          )\n",
            "        )\n",
            "      )\n",
            "    )\n",
            "  )\n",
            ")\n"
          ]
        }
      ]
    },
    {
      "cell_type": "markdown",
      "metadata": {
        "id": "ZBmchpDmoF0e"
      },
      "source": [
        "### But we need weights. Can we use the pretrained ones?\n",
        "\n",
        "Yes, we can! The following can be used to convert them from author's format. We have already done this for you, and you can get the weights from \n",
        "[here](https://github.com/lernapparat/lernapparat/releases/download/v2019-02-01/karras2019stylegan-ffhq-1024x1024.for_g_all.pt).\n",
        "\n",
        "Note that the weights are taken from [the reference implementation](https://github.com/NVlabs/stylegan) distributed by NVidia Corporation as Licensed under the CC-BY-NC 4.0 license. As such, the same applies here.\n",
        "\n",
        "For completeness, our conversion is below, but you can skip it if you download the PyTorch-ready weights."
      ]
    },
    {
      "cell_type": "code",
      "execution_count": 31,
      "metadata": {
        "id": "U7BimjoeoF0e"
      },
      "outputs": [],
      "source": [
        "if 0:\n",
        "    # this can be run to get the weights, but you need the reference implementation and weights\n",
        "    import dnnlib, dnnlib.tflib, pickle, torch, collections\n",
        "    dnnlib.tflib.init_tf()\n",
        "    weights = pickle.load(open('./karras2019stylegan-ffhq-1024x1024.pkl','rb'))\n",
        "    weights_pt = [collections.OrderedDict([(k, torch.from_numpy(v.value().eval())) for k,v in w.trainables.items()]) for w in weights]\n",
        "    torch.save(weights_pt, './karras2019stylegan-ffhq-1024x1024.pt')\n",
        "if 0:\n",
        "    # then on the PyTorch side run\n",
        "    state_G, state_D, state_Gs = torch.load('./karras2019stylegan-ffhq-1024x1024.pt')\n",
        "    def key_translate(k):\n",
        "        k = k.lower().split('/')\n",
        "        if k[0] == 'g_synthesis':\n",
        "            if not k[1].startswith('torgb'):\n",
        "                k.insert(1, 'blocks')\n",
        "            k = '.'.join(k)\n",
        "            k = (k.replace('const.const','const').replace('const.bias','bias').replace('const.stylemod','epi1.style_mod.lin')\n",
        "                  .replace('const.noise.weight','epi1.top_epi.noise.weight')\n",
        "                  .replace('conv.noise.weight','epi2.top_epi.noise.weight')\n",
        "                  .replace('conv.stylemod','epi2.style_mod.lin')\n",
        "                  .replace('conv0_up.noise.weight', 'epi1.top_epi.noise.weight')\n",
        "                  .replace('conv0_up.stylemod','epi1.style_mod.lin')\n",
        "                  .replace('conv1.noise.weight', 'epi2.top_epi.noise.weight')\n",
        "                  .replace('conv1.stylemod','epi2.style_mod.lin')\n",
        "                  .replace('torgb_lod0','torgb'))\n",
        "        else:\n",
        "            k = '.'.join(k)\n",
        "        return k\n",
        "\n",
        "    def weight_translate(k, w):\n",
        "        k = key_translate(k)\n",
        "        if k.endswith('.weight'):\n",
        "            if w.dim() == 2:\n",
        "                w = w.t()\n",
        "            elif w.dim() == 1:\n",
        "                pass\n",
        "            else:\n",
        "                assert w.dim() == 4\n",
        "                w = w.permute(3, 2, 0, 1)\n",
        "        return w\n",
        "\n",
        "    # we delete the useless torgb filters\n",
        "    param_dict = {key_translate(k) : weight_translate(k, v) for k,v in state_Gs.items() if 'torgb_lod' not in key_translate(k)}\n",
        "    if 1:\n",
        "        sd_shapes = {k : v.shape for k,v in g_all.state_dict().items()}\n",
        "        param_shapes = {k : v.shape for k,v in param_dict.items() }\n",
        "\n",
        "        for k in list(sd_shapes)+list(param_shapes):\n",
        "            pds = param_shapes.get(k)\n",
        "            sds = sd_shapes.get(k)\n",
        "            if pds is None:\n",
        "                print (\"sd only\", k, sds)\n",
        "            elif sds is None:\n",
        "                print (\"pd only\", k, pds)\n",
        "            elif sds != pds:\n",
        "                print (\"mismatch!\", k, pds, sds)\n",
        "\n",
        "    g_all.load_state_dict(param_dict, strict=False) # needed for the blur kernels\n",
        "    torch.save(g_all.state_dict(), './karras2019stylegan-ffhq-1024x1024.for_g_all.pt')"
      ]
    },
    {
      "cell_type": "markdown",
      "metadata": {
        "id": "jWq3NpdYoF0f"
      },
      "source": [
        "Let's load the weights."
      ]
    },
    {
      "cell_type": "code",
      "execution_count": 32,
      "metadata": {
        "colab": {
          "base_uri": "https://localhost:8080/"
        },
        "id": "RzgqSrTVoF0f",
        "outputId": "ed29c771-1e95-46cb-ee92-304be3560768"
      },
      "outputs": [
        {
          "output_type": "execute_result",
          "data": {
            "text/plain": [
              "<All keys matched successfully>"
            ]
          },
          "metadata": {},
          "execution_count": 32
        }
      ],
      "source": [
        "# g_all.load_state_dict(torch.load('./karras2019stylegan-ffhq-1024x1024.for_g_all.pt'))\n",
        "# g_all.load_state_dict(torch.load('./karras2019stylegan-ffhq-1024x1024.for_g_all.pt'))\n",
        "# torch.utils.model_zoo.load_url(\"https://github.com/lernapparat/lernapparat/releases/download/v2019-02-01/karras2019stylegan-ffhq-1024x1024.for_g_all.pt\")\n",
        "from torch.utils import model_zoo\n",
        "g_all.load_state_dict(model_zoo.load_url(\"https://github.com/lernapparat/lernapparat/releases/download/v2019-02-01/karras2019stylegan-ffhq-1024x1024.for_g_all.pt\"))\n"
      ]
    },
    {
      "cell_type": "markdown",
      "metadata": {
        "id": "1da1ps4MoF0g"
      },
      "source": [
        "Now we're all set! Let's generate faces!"
      ]
    },
    {
      "cell_type": "code",
      "execution_count": 33,
      "metadata": {
        "colab": {
          "base_uri": "https://localhost:8080/",
          "height": 1000
        },
        "id": "1BFrd6hKoF0g",
        "outputId": "cf03a90f-7fdb-43e0-f97e-31b008374eb8"
      },
      "outputs": [
        {
          "output_type": "stream",
          "name": "stderr",
          "text": [
            "\n",
            "PYDEV DEBUGGER WARNING:\n",
            "sys.settrace() should not be used when the debugger is being used.\n",
            "This may cause the debugger to stop working correctly.\n",
            "If this is needed, please check: \n",
            "http://pydev.blogspot.com/2007/06/why-cant-pydev-debugger-work-with.html\n",
            "to see how to restore the debug tracing back correctly.\n",
            "Call Location:\n",
            "  File \"/usr/lib/python3.7/bdb.py\", line 332, in set_trace\n",
            "    sys.settrace(self.trace_dispatch)\n",
            "\n"
          ]
        },
        {
          "name": "stdout",
          "output_type": "stream",
          "text": [
            "> <ipython-input-25-30cc7b3940d7>(29)upscale2d()\n",
            "-> assert x.dim() == 4\n",
            "(Pdb) l\n",
            " 24  \t        )\n",
            " 25  \t        return x\n",
            " 26  \t\n",
            " 27  \tdef upscale2d(x, factor=2, gain=1):\n",
            " 28  \t    pdb.set_trace()\n",
            " 29  ->\t    assert x.dim() == 4\n",
            " 30  \t    if gain != 1:\n",
            " 31  \t        x = x * gain\n",
            " 32  \t    if factor != 1:\n",
            " 33  \t        shape = x.shape\n",
            " 34  \t        x = x.view(shape[0], shape[1], shape[2], 1, shape[3], 1).expand(-1, -1, -1, factor, -1, factor)\n",
            "(Pdb) p x.shape\n",
            "torch.Size([10, 512, 4, 4])\n",
            "(Pdb) n\n",
            "> <ipython-input-25-30cc7b3940d7>(30)upscale2d()\n",
            "-> if gain != 1:\n",
            "(Pdb) n\n",
            "> <ipython-input-25-30cc7b3940d7>(32)upscale2d()\n",
            "-> if factor != 1:\n",
            "(Pdb) l\n",
            " 27  \tdef upscale2d(x, factor=2, gain=1):\n",
            " 28  \t    pdb.set_trace()\n",
            " 29  \t    assert x.dim() == 4\n",
            " 30  \t    if gain != 1:\n",
            " 31  \t        x = x * gain\n",
            " 32  ->\t    if factor != 1:\n",
            " 33  \t        shape = x.shape\n",
            " 34  \t        x = x.view(shape[0], shape[1], shape[2], 1, shape[3], 1).expand(-1, -1, -1, factor, -1, factor)\n",
            " 35  \t        x = x.contiguous().view(shape[0], shape[1], factor * shape[2], factor * shape[3])\n",
            " 36  \t    return x\n",
            " 37  \t\n",
            "(Pdb) p gain\n",
            "1\n",
            "(Pdb) p  factor\n",
            "2\n",
            "(Pdb) n\n",
            "> <ipython-input-25-30cc7b3940d7>(33)upscale2d()\n",
            "-> shape = x.shape\n",
            "(Pdb) n\n",
            "> <ipython-input-25-30cc7b3940d7>(34)upscale2d()\n",
            "-> x = x.view(shape[0], shape[1], shape[2], 1, shape[3], 1).expand(-1, -1, -1, factor, -1, factor)\n",
            "(Pdb) l\n",
            " 29  \t    assert x.dim() == 4\n",
            " 30  \t    if gain != 1:\n",
            " 31  \t        x = x * gain\n",
            " 32  \t    if factor != 1:\n",
            " 33  \t        shape = x.shape\n",
            " 34  ->\t        x = x.view(shape[0], shape[1], shape[2], 1, shape[3], 1).expand(-1, -1, -1, factor, -1, factor)\n",
            " 35  \t        x = x.contiguous().view(shape[0], shape[1], factor * shape[2], factor * shape[3])\n",
            " 36  \t    return x\n",
            " 37  \t\n",
            " 38  \tclass Upscale2d(nn.Module):\n",
            " 39  \t    def __init__(self, factor=2, gain=1):\n",
            "(Pdb) p x.shape\n",
            "torch.Size([10, 512, 4, 4])\n",
            "(Pdb) n\n",
            "> <ipython-input-25-30cc7b3940d7>(35)upscale2d()\n",
            "-> x = x.contiguous().view(shape[0], shape[1], factor * shape[2], factor * shape[3])\n",
            "(Pdb) p x.shape\n",
            "torch.Size([10, 512, 4, 2, 4, 2])\n",
            "(Pdb) n\n",
            "> <ipython-input-25-30cc7b3940d7>(36)upscale2d()\n",
            "-> return x\n",
            "(Pdb) p x.shape\n",
            "torch.Size([10, 512, 8, 8])\n",
            "(Pdb) q\n"
          ]
        },
        {
          "output_type": "stream",
          "name": "stderr",
          "text": [
            "\n",
            "PYDEV DEBUGGER WARNING:\n",
            "sys.settrace() should not be used when the debugger is being used.\n",
            "This may cause the debugger to stop working correctly.\n",
            "If this is needed, please check: \n",
            "http://pydev.blogspot.com/2007/06/why-cant-pydev-debugger-work-with.html\n",
            "to see how to restore the debug tracing back correctly.\n",
            "Call Location:\n",
            "  File \"/usr/lib/python3.7/bdb.py\", line 357, in set_quit\n",
            "    sys.settrace(None)\n",
            "\n"
          ]
        },
        {
          "output_type": "error",
          "ename": "BdbQuit",
          "evalue": "ignored",
          "traceback": [
            "\u001b[0;31m---------------------------------------------------------------------------\u001b[0m",
            "\u001b[0;31mBdbQuit\u001b[0m                                   Traceback (most recent call last)",
            "\u001b[0;32m<ipython-input-33-19851d2216b4>\u001b[0m in \u001b[0;36m<module>\u001b[0;34m()\u001b[0m\n\u001b[1;32m     12\u001b[0m \u001b[0mlatents\u001b[0m \u001b[0;34m=\u001b[0m \u001b[0mtorch\u001b[0m\u001b[0;34m.\u001b[0m\u001b[0mrandn\u001b[0m\u001b[0;34m(\u001b[0m\u001b[0mnb_samples\u001b[0m\u001b[0;34m,\u001b[0m \u001b[0;36m512\u001b[0m\u001b[0;34m,\u001b[0m \u001b[0mdevice\u001b[0m\u001b[0;34m=\u001b[0m\u001b[0mdevice\u001b[0m\u001b[0;34m)\u001b[0m\u001b[0;34m\u001b[0m\u001b[0;34m\u001b[0m\u001b[0m\n\u001b[1;32m     13\u001b[0m \u001b[0;32mwith\u001b[0m \u001b[0mtorch\u001b[0m\u001b[0;34m.\u001b[0m\u001b[0mno_grad\u001b[0m\u001b[0;34m(\u001b[0m\u001b[0;34m)\u001b[0m\u001b[0;34m:\u001b[0m\u001b[0;34m\u001b[0m\u001b[0;34m\u001b[0m\u001b[0m\n\u001b[0;32m---> 14\u001b[0;31m     \u001b[0mimgs\u001b[0m \u001b[0;34m=\u001b[0m \u001b[0mg_all\u001b[0m\u001b[0;34m(\u001b[0m\u001b[0mlatents\u001b[0m\u001b[0;34m)\u001b[0m\u001b[0;34m\u001b[0m\u001b[0;34m\u001b[0m\u001b[0m\n\u001b[0m\u001b[1;32m     15\u001b[0m     \u001b[0mimgs\u001b[0m \u001b[0;34m=\u001b[0m \u001b[0;34m(\u001b[0m\u001b[0mimgs\u001b[0m\u001b[0;34m.\u001b[0m\u001b[0mclamp\u001b[0m\u001b[0;34m(\u001b[0m\u001b[0;34m-\u001b[0m\u001b[0;36m1\u001b[0m\u001b[0;34m,\u001b[0m \u001b[0;36m1\u001b[0m\u001b[0;34m)\u001b[0m \u001b[0;34m+\u001b[0m \u001b[0;36m1\u001b[0m\u001b[0;34m)\u001b[0m \u001b[0;34m/\u001b[0m \u001b[0;36m2.0\u001b[0m \u001b[0;31m# normalization to 0..1 range\u001b[0m\u001b[0;34m\u001b[0m\u001b[0;34m\u001b[0m\u001b[0m\n\u001b[1;32m     16\u001b[0m \u001b[0mimgs\u001b[0m \u001b[0;34m=\u001b[0m \u001b[0mimgs\u001b[0m\u001b[0;34m.\u001b[0m\u001b[0mcpu\u001b[0m\u001b[0;34m(\u001b[0m\u001b[0;34m)\u001b[0m\u001b[0;34m\u001b[0m\u001b[0;34m\u001b[0m\u001b[0m\n",
            "\u001b[0;32m/usr/local/lib/python3.7/dist-packages/torch/nn/modules/module.py\u001b[0m in \u001b[0;36m_call_impl\u001b[0;34m(self, *input, **kwargs)\u001b[0m\n\u001b[1;32m   1100\u001b[0m         if not (self._backward_hooks or self._forward_hooks or self._forward_pre_hooks or _global_backward_hooks\n\u001b[1;32m   1101\u001b[0m                 or _global_forward_hooks or _global_forward_pre_hooks):\n\u001b[0;32m-> 1102\u001b[0;31m             \u001b[0;32mreturn\u001b[0m \u001b[0mforward_call\u001b[0m\u001b[0;34m(\u001b[0m\u001b[0;34m*\u001b[0m\u001b[0minput\u001b[0m\u001b[0;34m,\u001b[0m \u001b[0;34m**\u001b[0m\u001b[0mkwargs\u001b[0m\u001b[0;34m)\u001b[0m\u001b[0;34m\u001b[0m\u001b[0;34m\u001b[0m\u001b[0m\n\u001b[0m\u001b[1;32m   1103\u001b[0m         \u001b[0;31m# Do not call functions when jit is used\u001b[0m\u001b[0;34m\u001b[0m\u001b[0;34m\u001b[0m\u001b[0;34m\u001b[0m\u001b[0m\n\u001b[1;32m   1104\u001b[0m         \u001b[0mfull_backward_hooks\u001b[0m\u001b[0;34m,\u001b[0m \u001b[0mnon_full_backward_hooks\u001b[0m \u001b[0;34m=\u001b[0m \u001b[0;34m[\u001b[0m\u001b[0;34m]\u001b[0m\u001b[0;34m,\u001b[0m \u001b[0;34m[\u001b[0m\u001b[0;34m]\u001b[0m\u001b[0;34m\u001b[0m\u001b[0;34m\u001b[0m\u001b[0m\n",
            "\u001b[0;32m/usr/local/lib/python3.7/dist-packages/torch/nn/modules/container.py\u001b[0m in \u001b[0;36mforward\u001b[0;34m(self, input)\u001b[0m\n\u001b[1;32m    139\u001b[0m     \u001b[0;32mdef\u001b[0m \u001b[0mforward\u001b[0m\u001b[0;34m(\u001b[0m\u001b[0mself\u001b[0m\u001b[0;34m,\u001b[0m \u001b[0minput\u001b[0m\u001b[0;34m)\u001b[0m\u001b[0;34m:\u001b[0m\u001b[0;34m\u001b[0m\u001b[0;34m\u001b[0m\u001b[0m\n\u001b[1;32m    140\u001b[0m         \u001b[0;32mfor\u001b[0m \u001b[0mmodule\u001b[0m \u001b[0;32min\u001b[0m \u001b[0mself\u001b[0m\u001b[0;34m:\u001b[0m\u001b[0;34m\u001b[0m\u001b[0;34m\u001b[0m\u001b[0m\n\u001b[0;32m--> 141\u001b[0;31m             \u001b[0minput\u001b[0m \u001b[0;34m=\u001b[0m \u001b[0mmodule\u001b[0m\u001b[0;34m(\u001b[0m\u001b[0minput\u001b[0m\u001b[0;34m)\u001b[0m\u001b[0;34m\u001b[0m\u001b[0;34m\u001b[0m\u001b[0m\n\u001b[0m\u001b[1;32m    142\u001b[0m         \u001b[0;32mreturn\u001b[0m \u001b[0minput\u001b[0m\u001b[0;34m\u001b[0m\u001b[0;34m\u001b[0m\u001b[0m\n\u001b[1;32m    143\u001b[0m \u001b[0;34m\u001b[0m\u001b[0m\n",
            "\u001b[0;32m/usr/local/lib/python3.7/dist-packages/torch/nn/modules/module.py\u001b[0m in \u001b[0;36m_call_impl\u001b[0;34m(self, *input, **kwargs)\u001b[0m\n\u001b[1;32m   1100\u001b[0m         if not (self._backward_hooks or self._forward_hooks or self._forward_pre_hooks or _global_backward_hooks\n\u001b[1;32m   1101\u001b[0m                 or _global_forward_hooks or _global_forward_pre_hooks):\n\u001b[0;32m-> 1102\u001b[0;31m             \u001b[0;32mreturn\u001b[0m \u001b[0mforward_call\u001b[0m\u001b[0;34m(\u001b[0m\u001b[0;34m*\u001b[0m\u001b[0minput\u001b[0m\u001b[0;34m,\u001b[0m \u001b[0;34m**\u001b[0m\u001b[0mkwargs\u001b[0m\u001b[0;34m)\u001b[0m\u001b[0;34m\u001b[0m\u001b[0;34m\u001b[0m\u001b[0m\n\u001b[0m\u001b[1;32m   1103\u001b[0m         \u001b[0;31m# Do not call functions when jit is used\u001b[0m\u001b[0;34m\u001b[0m\u001b[0;34m\u001b[0m\u001b[0;34m\u001b[0m\u001b[0m\n\u001b[1;32m   1104\u001b[0m         \u001b[0mfull_backward_hooks\u001b[0m\u001b[0;34m,\u001b[0m \u001b[0mnon_full_backward_hooks\u001b[0m \u001b[0;34m=\u001b[0m \u001b[0;34m[\u001b[0m\u001b[0;34m]\u001b[0m\u001b[0;34m,\u001b[0m \u001b[0;34m[\u001b[0m\u001b[0;34m]\u001b[0m\u001b[0;34m\u001b[0m\u001b[0;34m\u001b[0m\u001b[0m\n",
            "\u001b[0;32m<ipython-input-28-f3400d751748>\u001b[0m in \u001b[0;36mforward\u001b[0;34m(self, dlatents_in)\u001b[0m\n\u001b[1;32m     55\u001b[0m                 \u001b[0mx\u001b[0m \u001b[0;34m=\u001b[0m \u001b[0mm\u001b[0m\u001b[0;34m(\u001b[0m\u001b[0mdlatents_in\u001b[0m\u001b[0;34m[\u001b[0m\u001b[0;34m:\u001b[0m\u001b[0;34m,\u001b[0m \u001b[0;36m2\u001b[0m\u001b[0;34m*\u001b[0m\u001b[0mi\u001b[0m\u001b[0;34m:\u001b[0m\u001b[0;36m2\u001b[0m\u001b[0;34m*\u001b[0m\u001b[0mi\u001b[0m\u001b[0;34m+\u001b[0m\u001b[0;36m2\u001b[0m\u001b[0;34m]\u001b[0m\u001b[0;34m)\u001b[0m\u001b[0;34m\u001b[0m\u001b[0;34m\u001b[0m\u001b[0m\n\u001b[1;32m     56\u001b[0m             \u001b[0;32melse\u001b[0m\u001b[0;34m:\u001b[0m\u001b[0;34m\u001b[0m\u001b[0;34m\u001b[0m\u001b[0m\n\u001b[0;32m---> 57\u001b[0;31m                 \u001b[0mx\u001b[0m \u001b[0;34m=\u001b[0m \u001b[0mm\u001b[0m\u001b[0;34m(\u001b[0m\u001b[0mx\u001b[0m\u001b[0;34m,\u001b[0m \u001b[0mdlatents_in\u001b[0m\u001b[0;34m[\u001b[0m\u001b[0;34m:\u001b[0m\u001b[0;34m,\u001b[0m \u001b[0;36m2\u001b[0m\u001b[0;34m*\u001b[0m\u001b[0mi\u001b[0m\u001b[0;34m:\u001b[0m\u001b[0;36m2\u001b[0m\u001b[0;34m*\u001b[0m\u001b[0mi\u001b[0m\u001b[0;34m+\u001b[0m\u001b[0;36m2\u001b[0m\u001b[0;34m]\u001b[0m\u001b[0;34m)\u001b[0m\u001b[0;34m\u001b[0m\u001b[0;34m\u001b[0m\u001b[0m\n\u001b[0m\u001b[1;32m     58\u001b[0m         \u001b[0mrgb\u001b[0m \u001b[0;34m=\u001b[0m \u001b[0mself\u001b[0m\u001b[0;34m.\u001b[0m\u001b[0mtorgb\u001b[0m\u001b[0;34m(\u001b[0m\u001b[0mx\u001b[0m\u001b[0;34m)\u001b[0m\u001b[0;34m\u001b[0m\u001b[0;34m\u001b[0m\u001b[0m\n\u001b[1;32m     59\u001b[0m         \u001b[0;32mreturn\u001b[0m \u001b[0mrgb\u001b[0m\u001b[0;34m\u001b[0m\u001b[0;34m\u001b[0m\u001b[0m\n",
            "\u001b[0;32m/usr/local/lib/python3.7/dist-packages/torch/nn/modules/module.py\u001b[0m in \u001b[0;36m_call_impl\u001b[0;34m(self, *input, **kwargs)\u001b[0m\n\u001b[1;32m   1100\u001b[0m         if not (self._backward_hooks or self._forward_hooks or self._forward_pre_hooks or _global_backward_hooks\n\u001b[1;32m   1101\u001b[0m                 or _global_forward_hooks or _global_forward_pre_hooks):\n\u001b[0;32m-> 1102\u001b[0;31m             \u001b[0;32mreturn\u001b[0m \u001b[0mforward_call\u001b[0m\u001b[0;34m(\u001b[0m\u001b[0;34m*\u001b[0m\u001b[0minput\u001b[0m\u001b[0;34m,\u001b[0m \u001b[0;34m**\u001b[0m\u001b[0mkwargs\u001b[0m\u001b[0;34m)\u001b[0m\u001b[0;34m\u001b[0m\u001b[0;34m\u001b[0m\u001b[0m\n\u001b[0m\u001b[1;32m   1103\u001b[0m         \u001b[0;31m# Do not call functions when jit is used\u001b[0m\u001b[0;34m\u001b[0m\u001b[0;34m\u001b[0m\u001b[0;34m\u001b[0m\u001b[0m\n\u001b[1;32m   1104\u001b[0m         \u001b[0mfull_backward_hooks\u001b[0m\u001b[0;34m,\u001b[0m \u001b[0mnon_full_backward_hooks\u001b[0m \u001b[0;34m=\u001b[0m \u001b[0;34m[\u001b[0m\u001b[0;34m]\u001b[0m\u001b[0;34m,\u001b[0m \u001b[0;34m[\u001b[0m\u001b[0;34m]\u001b[0m\u001b[0;34m\u001b[0m\u001b[0;34m\u001b[0m\u001b[0m\n",
            "\u001b[0;32m<ipython-input-27-6d041b60f88e>\u001b[0m in \u001b[0;36mforward\u001b[0;34m(self, x, dlatents_in_range)\u001b[0m\n\u001b[1;32m     68\u001b[0m \u001b[0;34m\u001b[0m\u001b[0m\n\u001b[1;32m     69\u001b[0m     \u001b[0;32mdef\u001b[0m \u001b[0mforward\u001b[0m\u001b[0;34m(\u001b[0m\u001b[0mself\u001b[0m\u001b[0;34m,\u001b[0m \u001b[0mx\u001b[0m\u001b[0;34m,\u001b[0m \u001b[0mdlatents_in_range\u001b[0m\u001b[0;34m)\u001b[0m\u001b[0;34m:\u001b[0m\u001b[0;34m\u001b[0m\u001b[0;34m\u001b[0m\u001b[0m\n\u001b[0;32m---> 70\u001b[0;31m         \u001b[0mx\u001b[0m \u001b[0;34m=\u001b[0m \u001b[0mself\u001b[0m\u001b[0;34m.\u001b[0m\u001b[0mconv0_up\u001b[0m\u001b[0;34m(\u001b[0m\u001b[0mx\u001b[0m\u001b[0;34m)\u001b[0m\u001b[0;34m\u001b[0m\u001b[0;34m\u001b[0m\u001b[0m\n\u001b[0m\u001b[1;32m     71\u001b[0m         \u001b[0mx\u001b[0m \u001b[0;34m=\u001b[0m \u001b[0mself\u001b[0m\u001b[0;34m.\u001b[0m\u001b[0mepi1\u001b[0m\u001b[0;34m(\u001b[0m\u001b[0mx\u001b[0m\u001b[0;34m,\u001b[0m \u001b[0mdlatents_in_range\u001b[0m\u001b[0;34m[\u001b[0m\u001b[0;34m:\u001b[0m\u001b[0;34m,\u001b[0m \u001b[0;36m0\u001b[0m\u001b[0;34m]\u001b[0m\u001b[0;34m)\u001b[0m\u001b[0;34m\u001b[0m\u001b[0;34m\u001b[0m\u001b[0m\n\u001b[1;32m     72\u001b[0m         \u001b[0mx\u001b[0m \u001b[0;34m=\u001b[0m \u001b[0mself\u001b[0m\u001b[0;34m.\u001b[0m\u001b[0mconv1\u001b[0m\u001b[0;34m(\u001b[0m\u001b[0mx\u001b[0m\u001b[0;34m)\u001b[0m\u001b[0;34m\u001b[0m\u001b[0;34m\u001b[0m\u001b[0m\n",
            "\u001b[0;32m/usr/local/lib/python3.7/dist-packages/torch/nn/modules/module.py\u001b[0m in \u001b[0;36m_call_impl\u001b[0;34m(self, *input, **kwargs)\u001b[0m\n\u001b[1;32m   1100\u001b[0m         if not (self._backward_hooks or self._forward_hooks or self._forward_pre_hooks or _global_backward_hooks\n\u001b[1;32m   1101\u001b[0m                 or _global_forward_hooks or _global_forward_pre_hooks):\n\u001b[0;32m-> 1102\u001b[0;31m             \u001b[0;32mreturn\u001b[0m \u001b[0mforward_call\u001b[0m\u001b[0;34m(\u001b[0m\u001b[0;34m*\u001b[0m\u001b[0minput\u001b[0m\u001b[0;34m,\u001b[0m \u001b[0;34m**\u001b[0m\u001b[0mkwargs\u001b[0m\u001b[0;34m)\u001b[0m\u001b[0;34m\u001b[0m\u001b[0;34m\u001b[0m\u001b[0m\n\u001b[0m\u001b[1;32m   1103\u001b[0m         \u001b[0;31m# Do not call functions when jit is used\u001b[0m\u001b[0;34m\u001b[0m\u001b[0;34m\u001b[0m\u001b[0;34m\u001b[0m\u001b[0m\n\u001b[1;32m   1104\u001b[0m         \u001b[0mfull_backward_hooks\u001b[0m\u001b[0;34m,\u001b[0m \u001b[0mnon_full_backward_hooks\u001b[0m \u001b[0;34m=\u001b[0m \u001b[0;34m[\u001b[0m\u001b[0;34m]\u001b[0m\u001b[0;34m,\u001b[0m \u001b[0;34m[\u001b[0m\u001b[0;34m]\u001b[0m\u001b[0;34m\u001b[0m\u001b[0;34m\u001b[0m\u001b[0m\n",
            "\u001b[0;32m<ipython-input-21-d6f6debac481>\u001b[0m in \u001b[0;36mforward\u001b[0;34m(self, x)\u001b[0m\n\u001b[1;32m     41\u001b[0m             \u001b[0mhave_convolution\u001b[0m \u001b[0;34m=\u001b[0m \u001b[0;32mTrue\u001b[0m\u001b[0;34m\u001b[0m\u001b[0;34m\u001b[0m\u001b[0m\n\u001b[1;32m     42\u001b[0m         \u001b[0;32melif\u001b[0m \u001b[0mself\u001b[0m\u001b[0;34m.\u001b[0m\u001b[0mupscale\u001b[0m \u001b[0;32mis\u001b[0m \u001b[0;32mnot\u001b[0m \u001b[0;32mNone\u001b[0m\u001b[0;34m:\u001b[0m\u001b[0;34m\u001b[0m\u001b[0;34m\u001b[0m\u001b[0m\n\u001b[0;32m---> 43\u001b[0;31m             \u001b[0mx\u001b[0m \u001b[0;34m=\u001b[0m \u001b[0mself\u001b[0m\u001b[0;34m.\u001b[0m\u001b[0mupscale\u001b[0m\u001b[0;34m(\u001b[0m\u001b[0mx\u001b[0m\u001b[0;34m)\u001b[0m\u001b[0;34m\u001b[0m\u001b[0;34m\u001b[0m\u001b[0m\n\u001b[0m\u001b[1;32m     44\u001b[0m \u001b[0;34m\u001b[0m\u001b[0m\n\u001b[1;32m     45\u001b[0m         \u001b[0;32mif\u001b[0m \u001b[0;32mnot\u001b[0m \u001b[0mhave_convolution\u001b[0m \u001b[0;32mand\u001b[0m \u001b[0mself\u001b[0m\u001b[0;34m.\u001b[0m\u001b[0mintermediate\u001b[0m \u001b[0;32mis\u001b[0m \u001b[0;32mNone\u001b[0m\u001b[0;34m:\u001b[0m\u001b[0;34m\u001b[0m\u001b[0;34m\u001b[0m\u001b[0m\n",
            "\u001b[0;32m/usr/local/lib/python3.7/dist-packages/torch/nn/modules/module.py\u001b[0m in \u001b[0;36m_call_impl\u001b[0;34m(self, *input, **kwargs)\u001b[0m\n\u001b[1;32m   1100\u001b[0m         if not (self._backward_hooks or self._forward_hooks or self._forward_pre_hooks or _global_backward_hooks\n\u001b[1;32m   1101\u001b[0m                 or _global_forward_hooks or _global_forward_pre_hooks):\n\u001b[0;32m-> 1102\u001b[0;31m             \u001b[0;32mreturn\u001b[0m \u001b[0mforward_call\u001b[0m\u001b[0;34m(\u001b[0m\u001b[0;34m*\u001b[0m\u001b[0minput\u001b[0m\u001b[0;34m,\u001b[0m \u001b[0;34m**\u001b[0m\u001b[0mkwargs\u001b[0m\u001b[0;34m)\u001b[0m\u001b[0;34m\u001b[0m\u001b[0;34m\u001b[0m\u001b[0m\n\u001b[0m\u001b[1;32m   1103\u001b[0m         \u001b[0;31m# Do not call functions when jit is used\u001b[0m\u001b[0;34m\u001b[0m\u001b[0;34m\u001b[0m\u001b[0;34m\u001b[0m\u001b[0m\n\u001b[1;32m   1104\u001b[0m         \u001b[0mfull_backward_hooks\u001b[0m\u001b[0;34m,\u001b[0m \u001b[0mnon_full_backward_hooks\u001b[0m \u001b[0;34m=\u001b[0m \u001b[0;34m[\u001b[0m\u001b[0;34m]\u001b[0m\u001b[0;34m,\u001b[0m \u001b[0;34m[\u001b[0m\u001b[0;34m]\u001b[0m\u001b[0;34m\u001b[0m\u001b[0;34m\u001b[0m\u001b[0m\n",
            "\u001b[0;32m<ipython-input-25-30cc7b3940d7>\u001b[0m in \u001b[0;36mforward\u001b[0;34m(self, x)\u001b[0m\n\u001b[1;32m     43\u001b[0m         \u001b[0mself\u001b[0m\u001b[0;34m.\u001b[0m\u001b[0mfactor\u001b[0m \u001b[0;34m=\u001b[0m \u001b[0mfactor\u001b[0m\u001b[0;34m\u001b[0m\u001b[0;34m\u001b[0m\u001b[0m\n\u001b[1;32m     44\u001b[0m     \u001b[0;32mdef\u001b[0m \u001b[0mforward\u001b[0m\u001b[0;34m(\u001b[0m\u001b[0mself\u001b[0m\u001b[0;34m,\u001b[0m \u001b[0mx\u001b[0m\u001b[0;34m)\u001b[0m\u001b[0;34m:\u001b[0m\u001b[0;34m\u001b[0m\u001b[0;34m\u001b[0m\u001b[0m\n\u001b[0;32m---> 45\u001b[0;31m         \u001b[0;32mreturn\u001b[0m \u001b[0mupscale2d\u001b[0m\u001b[0;34m(\u001b[0m\u001b[0mx\u001b[0m\u001b[0;34m,\u001b[0m \u001b[0mfactor\u001b[0m\u001b[0;34m=\u001b[0m\u001b[0mself\u001b[0m\u001b[0;34m.\u001b[0m\u001b[0mfactor\u001b[0m\u001b[0;34m,\u001b[0m \u001b[0mgain\u001b[0m\u001b[0;34m=\u001b[0m\u001b[0mself\u001b[0m\u001b[0;34m.\u001b[0m\u001b[0mgain\u001b[0m\u001b[0;34m)\u001b[0m\u001b[0;34m\u001b[0m\u001b[0;34m\u001b[0m\u001b[0m\n\u001b[0m",
            "\u001b[0;32m<ipython-input-25-30cc7b3940d7>\u001b[0m in \u001b[0;36mupscale2d\u001b[0;34m(x, factor, gain)\u001b[0m\n\u001b[1;32m     34\u001b[0m         \u001b[0mx\u001b[0m \u001b[0;34m=\u001b[0m \u001b[0mx\u001b[0m\u001b[0;34m.\u001b[0m\u001b[0mview\u001b[0m\u001b[0;34m(\u001b[0m\u001b[0mshape\u001b[0m\u001b[0;34m[\u001b[0m\u001b[0;36m0\u001b[0m\u001b[0;34m]\u001b[0m\u001b[0;34m,\u001b[0m \u001b[0mshape\u001b[0m\u001b[0;34m[\u001b[0m\u001b[0;36m1\u001b[0m\u001b[0;34m]\u001b[0m\u001b[0;34m,\u001b[0m \u001b[0mshape\u001b[0m\u001b[0;34m[\u001b[0m\u001b[0;36m2\u001b[0m\u001b[0;34m]\u001b[0m\u001b[0;34m,\u001b[0m \u001b[0;36m1\u001b[0m\u001b[0;34m,\u001b[0m \u001b[0mshape\u001b[0m\u001b[0;34m[\u001b[0m\u001b[0;36m3\u001b[0m\u001b[0;34m]\u001b[0m\u001b[0;34m,\u001b[0m \u001b[0;36m1\u001b[0m\u001b[0;34m)\u001b[0m\u001b[0;34m.\u001b[0m\u001b[0mexpand\u001b[0m\u001b[0;34m(\u001b[0m\u001b[0;34m-\u001b[0m\u001b[0;36m1\u001b[0m\u001b[0;34m,\u001b[0m \u001b[0;34m-\u001b[0m\u001b[0;36m1\u001b[0m\u001b[0;34m,\u001b[0m \u001b[0;34m-\u001b[0m\u001b[0;36m1\u001b[0m\u001b[0;34m,\u001b[0m \u001b[0mfactor\u001b[0m\u001b[0;34m,\u001b[0m \u001b[0;34m-\u001b[0m\u001b[0;36m1\u001b[0m\u001b[0;34m,\u001b[0m \u001b[0mfactor\u001b[0m\u001b[0;34m)\u001b[0m\u001b[0;34m\u001b[0m\u001b[0;34m\u001b[0m\u001b[0m\n\u001b[1;32m     35\u001b[0m         \u001b[0mx\u001b[0m \u001b[0;34m=\u001b[0m \u001b[0mx\u001b[0m\u001b[0;34m.\u001b[0m\u001b[0mcontiguous\u001b[0m\u001b[0;34m(\u001b[0m\u001b[0;34m)\u001b[0m\u001b[0;34m.\u001b[0m\u001b[0mview\u001b[0m\u001b[0;34m(\u001b[0m\u001b[0mshape\u001b[0m\u001b[0;34m[\u001b[0m\u001b[0;36m0\u001b[0m\u001b[0;34m]\u001b[0m\u001b[0;34m,\u001b[0m \u001b[0mshape\u001b[0m\u001b[0;34m[\u001b[0m\u001b[0;36m1\u001b[0m\u001b[0;34m]\u001b[0m\u001b[0;34m,\u001b[0m \u001b[0mfactor\u001b[0m \u001b[0;34m*\u001b[0m \u001b[0mshape\u001b[0m\u001b[0;34m[\u001b[0m\u001b[0;36m2\u001b[0m\u001b[0;34m]\u001b[0m\u001b[0;34m,\u001b[0m \u001b[0mfactor\u001b[0m \u001b[0;34m*\u001b[0m \u001b[0mshape\u001b[0m\u001b[0;34m[\u001b[0m\u001b[0;36m3\u001b[0m\u001b[0;34m]\u001b[0m\u001b[0;34m)\u001b[0m\u001b[0;34m\u001b[0m\u001b[0;34m\u001b[0m\u001b[0m\n\u001b[0;32m---> 36\u001b[0;31m     \u001b[0;32mreturn\u001b[0m \u001b[0mx\u001b[0m\u001b[0;34m\u001b[0m\u001b[0;34m\u001b[0m\u001b[0m\n\u001b[0m\u001b[1;32m     37\u001b[0m \u001b[0;34m\u001b[0m\u001b[0m\n\u001b[1;32m     38\u001b[0m \u001b[0;32mclass\u001b[0m \u001b[0mUpscale2d\u001b[0m\u001b[0;34m(\u001b[0m\u001b[0mnn\u001b[0m\u001b[0;34m.\u001b[0m\u001b[0mModule\u001b[0m\u001b[0;34m)\u001b[0m\u001b[0;34m:\u001b[0m\u001b[0;34m\u001b[0m\u001b[0;34m\u001b[0m\u001b[0m\n",
            "\u001b[0;32m<ipython-input-25-30cc7b3940d7>\u001b[0m in \u001b[0;36mupscale2d\u001b[0;34m(x, factor, gain)\u001b[0m\n\u001b[1;32m     34\u001b[0m         \u001b[0mx\u001b[0m \u001b[0;34m=\u001b[0m \u001b[0mx\u001b[0m\u001b[0;34m.\u001b[0m\u001b[0mview\u001b[0m\u001b[0;34m(\u001b[0m\u001b[0mshape\u001b[0m\u001b[0;34m[\u001b[0m\u001b[0;36m0\u001b[0m\u001b[0;34m]\u001b[0m\u001b[0;34m,\u001b[0m \u001b[0mshape\u001b[0m\u001b[0;34m[\u001b[0m\u001b[0;36m1\u001b[0m\u001b[0;34m]\u001b[0m\u001b[0;34m,\u001b[0m \u001b[0mshape\u001b[0m\u001b[0;34m[\u001b[0m\u001b[0;36m2\u001b[0m\u001b[0;34m]\u001b[0m\u001b[0;34m,\u001b[0m \u001b[0;36m1\u001b[0m\u001b[0;34m,\u001b[0m \u001b[0mshape\u001b[0m\u001b[0;34m[\u001b[0m\u001b[0;36m3\u001b[0m\u001b[0;34m]\u001b[0m\u001b[0;34m,\u001b[0m \u001b[0;36m1\u001b[0m\u001b[0;34m)\u001b[0m\u001b[0;34m.\u001b[0m\u001b[0mexpand\u001b[0m\u001b[0;34m(\u001b[0m\u001b[0;34m-\u001b[0m\u001b[0;36m1\u001b[0m\u001b[0;34m,\u001b[0m \u001b[0;34m-\u001b[0m\u001b[0;36m1\u001b[0m\u001b[0;34m,\u001b[0m \u001b[0;34m-\u001b[0m\u001b[0;36m1\u001b[0m\u001b[0;34m,\u001b[0m \u001b[0mfactor\u001b[0m\u001b[0;34m,\u001b[0m \u001b[0;34m-\u001b[0m\u001b[0;36m1\u001b[0m\u001b[0;34m,\u001b[0m \u001b[0mfactor\u001b[0m\u001b[0;34m)\u001b[0m\u001b[0;34m\u001b[0m\u001b[0;34m\u001b[0m\u001b[0m\n\u001b[1;32m     35\u001b[0m         \u001b[0mx\u001b[0m \u001b[0;34m=\u001b[0m \u001b[0mx\u001b[0m\u001b[0;34m.\u001b[0m\u001b[0mcontiguous\u001b[0m\u001b[0;34m(\u001b[0m\u001b[0;34m)\u001b[0m\u001b[0;34m.\u001b[0m\u001b[0mview\u001b[0m\u001b[0;34m(\u001b[0m\u001b[0mshape\u001b[0m\u001b[0;34m[\u001b[0m\u001b[0;36m0\u001b[0m\u001b[0;34m]\u001b[0m\u001b[0;34m,\u001b[0m \u001b[0mshape\u001b[0m\u001b[0;34m[\u001b[0m\u001b[0;36m1\u001b[0m\u001b[0;34m]\u001b[0m\u001b[0;34m,\u001b[0m \u001b[0mfactor\u001b[0m \u001b[0;34m*\u001b[0m \u001b[0mshape\u001b[0m\u001b[0;34m[\u001b[0m\u001b[0;36m2\u001b[0m\u001b[0;34m]\u001b[0m\u001b[0;34m,\u001b[0m \u001b[0mfactor\u001b[0m \u001b[0;34m*\u001b[0m \u001b[0mshape\u001b[0m\u001b[0;34m[\u001b[0m\u001b[0;36m3\u001b[0m\u001b[0;34m]\u001b[0m\u001b[0;34m)\u001b[0m\u001b[0;34m\u001b[0m\u001b[0;34m\u001b[0m\u001b[0m\n\u001b[0;32m---> 36\u001b[0;31m     \u001b[0;32mreturn\u001b[0m \u001b[0mx\u001b[0m\u001b[0;34m\u001b[0m\u001b[0;34m\u001b[0m\u001b[0m\n\u001b[0m\u001b[1;32m     37\u001b[0m \u001b[0;34m\u001b[0m\u001b[0m\n\u001b[1;32m     38\u001b[0m \u001b[0;32mclass\u001b[0m \u001b[0mUpscale2d\u001b[0m\u001b[0;34m(\u001b[0m\u001b[0mnn\u001b[0m\u001b[0;34m.\u001b[0m\u001b[0mModule\u001b[0m\u001b[0;34m)\u001b[0m\u001b[0;34m:\u001b[0m\u001b[0;34m\u001b[0m\u001b[0;34m\u001b[0m\u001b[0m\n",
            "\u001b[0;32m/usr/lib/python3.7/bdb.py\u001b[0m in \u001b[0;36mtrace_dispatch\u001b[0;34m(self, frame, event, arg)\u001b[0m\n\u001b[1;32m     86\u001b[0m             \u001b[0;32mreturn\u001b[0m \u001b[0;31m# None\u001b[0m\u001b[0;34m\u001b[0m\u001b[0;34m\u001b[0m\u001b[0m\n\u001b[1;32m     87\u001b[0m         \u001b[0;32mif\u001b[0m \u001b[0mevent\u001b[0m \u001b[0;34m==\u001b[0m \u001b[0;34m'line'\u001b[0m\u001b[0;34m:\u001b[0m\u001b[0;34m\u001b[0m\u001b[0;34m\u001b[0m\u001b[0m\n\u001b[0;32m---> 88\u001b[0;31m             \u001b[0;32mreturn\u001b[0m \u001b[0mself\u001b[0m\u001b[0;34m.\u001b[0m\u001b[0mdispatch_line\u001b[0m\u001b[0;34m(\u001b[0m\u001b[0mframe\u001b[0m\u001b[0;34m)\u001b[0m\u001b[0;34m\u001b[0m\u001b[0;34m\u001b[0m\u001b[0m\n\u001b[0m\u001b[1;32m     89\u001b[0m         \u001b[0;32mif\u001b[0m \u001b[0mevent\u001b[0m \u001b[0;34m==\u001b[0m \u001b[0;34m'call'\u001b[0m\u001b[0;34m:\u001b[0m\u001b[0;34m\u001b[0m\u001b[0;34m\u001b[0m\u001b[0m\n\u001b[1;32m     90\u001b[0m             \u001b[0;32mreturn\u001b[0m \u001b[0mself\u001b[0m\u001b[0;34m.\u001b[0m\u001b[0mdispatch_call\u001b[0m\u001b[0;34m(\u001b[0m\u001b[0mframe\u001b[0m\u001b[0;34m,\u001b[0m \u001b[0marg\u001b[0m\u001b[0;34m)\u001b[0m\u001b[0;34m\u001b[0m\u001b[0;34m\u001b[0m\u001b[0m\n",
            "\u001b[0;32m/usr/lib/python3.7/bdb.py\u001b[0m in \u001b[0;36mdispatch_line\u001b[0;34m(self, frame)\u001b[0m\n\u001b[1;32m    111\u001b[0m         \u001b[0;32mif\u001b[0m \u001b[0mself\u001b[0m\u001b[0;34m.\u001b[0m\u001b[0mstop_here\u001b[0m\u001b[0;34m(\u001b[0m\u001b[0mframe\u001b[0m\u001b[0;34m)\u001b[0m \u001b[0;32mor\u001b[0m \u001b[0mself\u001b[0m\u001b[0;34m.\u001b[0m\u001b[0mbreak_here\u001b[0m\u001b[0;34m(\u001b[0m\u001b[0mframe\u001b[0m\u001b[0;34m)\u001b[0m\u001b[0;34m:\u001b[0m\u001b[0;34m\u001b[0m\u001b[0;34m\u001b[0m\u001b[0m\n\u001b[1;32m    112\u001b[0m             \u001b[0mself\u001b[0m\u001b[0;34m.\u001b[0m\u001b[0muser_line\u001b[0m\u001b[0;34m(\u001b[0m\u001b[0mframe\u001b[0m\u001b[0;34m)\u001b[0m\u001b[0;34m\u001b[0m\u001b[0;34m\u001b[0m\u001b[0m\n\u001b[0;32m--> 113\u001b[0;31m             \u001b[0;32mif\u001b[0m \u001b[0mself\u001b[0m\u001b[0;34m.\u001b[0m\u001b[0mquitting\u001b[0m\u001b[0;34m:\u001b[0m \u001b[0;32mraise\u001b[0m \u001b[0mBdbQuit\u001b[0m\u001b[0;34m\u001b[0m\u001b[0;34m\u001b[0m\u001b[0m\n\u001b[0m\u001b[1;32m    114\u001b[0m         \u001b[0;32mreturn\u001b[0m \u001b[0mself\u001b[0m\u001b[0;34m.\u001b[0m\u001b[0mtrace_dispatch\u001b[0m\u001b[0;34m\u001b[0m\u001b[0;34m\u001b[0m\u001b[0m\n\u001b[1;32m    115\u001b[0m \u001b[0;34m\u001b[0m\u001b[0m\n",
            "\u001b[0;31mBdbQuit\u001b[0m: "
          ]
        }
      ],
      "source": [
        "%matplotlib inline\n",
        "from matplotlib import pyplot\n",
        "import torchvision\n",
        "device = 'cuda:0' if torch.cuda.is_available() else 'cpu'\n",
        "g_all.eval()\n",
        "g_all.to(device)\n",
        "\n",
        "torch.manual_seed(20)\n",
        "nb_rows = 2\n",
        "nb_cols = 5\n",
        "nb_samples = nb_rows * nb_cols\n",
        "latents = torch.randn(nb_samples, 512, device=device)\n",
        "with torch.no_grad():\n",
        "    imgs = g_all(latents)\n",
        "    imgs = (imgs.clamp(-1, 1) + 1) / 2.0 # normalization to 0..1 range\n",
        "imgs = imgs.cpu()\n",
        "\n",
        "imgs = torchvision.utils.make_grid(imgs, nrow=nb_cols)\n",
        "\n",
        "pyplot.figure(figsize=(15, 6))\n",
        "pyplot.imshow(imgs.permute(1, 2, 0).detach().numpy())"
      ]
    },
    {
      "cell_type": "markdown",
      "metadata": {
        "id": "NFjGfioIoF0h"
      },
      "source": [
        "# Interpolation\n",
        "\n",
        "The fancy way to interpolate latents of same lengths is to find a path between them on the centered sphere they lie (see e.g. [Ken Shoemake: Animating Rotation with Quaternion Curves](https://arxiv.org/abs/1609.04468)\n",
        "and this [slerp example](https://github.com/soumith/dcgan.torch/issues/14)).\n",
        "However, because the pixel norm at the very beginning projects onto the sphere, we can just take linear interpolation at the expense of a interpolation speed that is a bit slower at the ends of the paths than in the middle."
      ]
    },
    {
      "cell_type": "code",
      "execution_count": 16,
      "metadata": {
        "colab": {
          "base_uri": "https://localhost:8080/",
          "height": 269
        },
        "id": "hq1UmGSkoF0h",
        "outputId": "2d5dc5fe-d2ae-4438-88ce-6e494a9a4363"
      },
      "outputs": [
        {
          "output_type": "display_data",
          "data": {
            "text/plain": [
              "<Figure size 432x288 with 1 Axes>"
            ],
            "image/png": "[encoded data removed]"
          },
          "metadata": {
            "needs_background": "light"
          }
        }
      ],
      "source": [
        "# Get a few Images\n",
        "nb_latents = 25\n",
        "nb_interp = 10\n",
        "fixed_latents = [torch.randn(1, 512, device=device) for _ in range(nb_interp)]\n",
        "latents = []\n",
        "for i in range(len(fixed_latents)-1):\n",
        "    latents.append(fixed_latents[i] + (fixed_latents[i + 1] - fixed_latents[i]) * torch.arange(0, 1, 0.1, device=device).unsqueeze(1))\n",
        "latents.append(fixed_latents[-1])\n",
        "latents = torch.cat(latents, dim=0)\n",
        "\n",
        "%matplotlib inline\n",
        "with torch.no_grad():\n",
        "    for latent in latents:\n",
        "        latent = latent.to(device)\n",
        "        img = g_all(latent.unsqueeze(0))\n",
        "        img = img.clamp_(-1, 1).add_(1).div_(2.0)        \n",
        "        img = img.detach().squeeze(0).cpu().permute(1, 2, 0).numpy()\n",
        "        \n",
        "        pyplot.imshow(img)\n",
        "        IPython.display.clear_output(True)\n",
        "        pyplot.show()"
      ]
    },
    {
      "cell_type": "markdown",
      "metadata": {
        "id": "nH-l0ApToF0h"
      },
      "source": [
        "That is all for today. We hope you enjoyed this little walk-through.\n",
        "\n",
        "We appreciate your feedback. Email us at Piotr <mail@pbialecki.de> and Thomas <tv@lernapparat.de>.\n",
        "\n",
        "Also visit https://twitter.com/ptrblck_de and https://lernapparat.de/ for more great stuff."
      ]
    },
    {
      "cell_type": "code",
      "execution_count": 16,
      "metadata": {
        "id": "d39t-eGYoF0h"
      },
      "outputs": [],
      "source": [
        ""
      ]
    }
  ],
  "metadata": {
    "kernelspec": {
      "display_name": "Python 3",
      "language": "python",
      "name": "python3"
    },
    "language_info": {
      "codemirror_mode": {
        "name": "ipython",
        "version": 3
      },
      "file_extension": ".py",
      "mimetype": "text/x-python",
      "name": "python",
      "nbconvert_exporter": "python",
      "pygments_lexer": "ipython3",
      "version": "3.7.1"
    },
    "colab": {
      "name": "pytorch_style_gan.ipynb",
      "provenance": []
    },
    "accelerator": "GPU"
  },
  "nbformat": 4,
  "nbformat_minor": 0
}